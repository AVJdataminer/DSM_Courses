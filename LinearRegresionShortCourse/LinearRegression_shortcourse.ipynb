{
 "cells": [
  {
   "cell_type": "markdown",
   "metadata": {
    "colab_type": "text",
    "id": "10pEve39_Q6d"
   },
   "source": [
    "This is your short course on Linear Regression, feel free to skip around based on your interest level and time constraints. There is a python exercise notebook at the end of this document that provides the structure for problem-solving with linear regression but is limited in-depth on Linear Regression, which is found more in the video lessons and the other materials. Happy Learning!"
   ]
  },
  {
   "cell_type": "markdown",
   "metadata": {
    "colab_type": "text",
    "id": "dD1kL4FI_UeE"
   },
   "source": [
    "# 1. Overview of Linear Regression in Machine Learning & AI\n",
    "![](https://raw.githubusercontent.com/AVJdataminer/DSM_Courses/master/figures/LinearRegression-table.png)\n",
    "\n",
    "Video Resource: [The Coding Train Linear Regression](https://www.youtube.com/watch?v=szXbuO3bVRk) ( 18 mins)"
   ]
  },
  {
   "cell_type": "markdown",
   "metadata": {
    "colab_type": "text",
    "id": "zvXSFxfoA0f6"
   },
   "source": [
    "# 2. Understand the Math and the Assumptions of Linear Regression \n",
    "\n",
    "Visual Resource: [Seeing Theory Interactive Exercise](https://seeing-theory.brown.edu/regression-analysis/index.html) (10 mins)\n",
    "\n",
    "Video Resource:\n",
    "Get out a pen and paper and do the math along with these videos. Doing the math by hand with these simple examples will meld this method into your mind and allow you to have a deep understanding of the appropriate applications and limitations of Linear Regression.\n",
    "\n",
    "[Krista King Math](https://www.youtube.com/watch?v=1pawL_5QYxE) (8 mins) \n",
    "\n",
    "[Khan Academy](https://www.youtube.com/watch?v=8mAZYv5wIcE) (19 mins)\n",
    "\n",
    "\n"
   ]
  },
  {
   "cell_type": "markdown",
   "metadata": {
    "colab_type": "text",
    "id": "yD25RkUVExiJ"
   },
   "source": [
    "# 3. In-depth Understanding of Linear Regression \n",
    "Video Resources:\n",
    "[Statistical Learning Introduction by Dr. Hastie](https://www.youtube.com/watch?v=WjyuiK5taS8) (14 mins) \n",
    "- Associated Text Resource: [ISLR Textbook Chapter 2](http://faculty.marshall.usc.edu/gareth-james/ISL/ISLR%20Seventh%20Printing.pdf). \n",
    "\n",
    "[Linear Regression Lecture by Dr.Tribshirani](https://www.youtube.com/watch?v=PsE9UqoWtS4) (15 mins) \n",
    "- Associated Text Resource: [ISLR Textbook Chapter 3](http://faculty.marshall.usc.edu/gareth-james/ISL/ISLR%20Seventh%20Printing.pdf). \n",
    "\n",
    " - Optional additional video [Statistical Sommelier](https://ocw.mit.edu/courses/sloan-school-of-management/15-071-the-analytics-edge-spring-2017/linear-regression/the-statistical-sommelier-an-introduction-to-linear-regression/video-3-multiple-linear-regression/) (4 mins)\n",
    "\n",
    "Visual Interactive Resource: [Linear Diagnostic Plots](https://kwichmann.github.io/ml_sandbox/linear_regression_diagnostics/) (10 mins) "
   ]
  },
  {
   "cell_type": "markdown",
   "metadata": {
    "colab_type": "text",
    "id": "2sjyNYRmF9-N"
   },
   "source": [
    "## 3.1 Exercise Notebook - Google Colab or Jupyter Notebook. \n",
    "Work through the hands on exercise to get familiar with a linear regression data science problem in Python. You can download the file and open in locally in Jupyter notebooks or work directly on Google Colab notebooks.\n",
    "\n",
    "Avocado Pricing with Linear Regression Exercise\n",
    "\n",
    "[![Open In Colab](https://colab.research.google.com/assets/colab-badge.svg)](https://colab.research.google.com/drive/1_Yb158dd9Qw3CcKnxt4pO97qBtgXXHvL#scrollTo=33q5TZskB5X6)\n"
   ]
  },
  {
   "cell_type": "code",
   "execution_count": 0,
   "metadata": {
    "colab": {},
    "colab_type": "code",
    "id": "gYoh84AdEr_6"
   },
   "outputs": [],
   "source": []
  }
 ],
 "metadata": {
  "colab": {
   "collapsed_sections": [],
   "name": "LinearRegression_shortcourse.ipynb",
   "provenance": []
  },
  "kernelspec": {
   "display_name": "Python 3",
   "language": "python",
   "name": "python3"
  },
  "language_info": {
   "codemirror_mode": {
    "name": "ipython",
    "version": 3
   },
   "file_extension": ".py",
   "mimetype": "text/x-python",
   "name": "python",
   "nbconvert_exporter": "python",
   "pygments_lexer": "ipython3",
   "version": "3.7.5"
  }
 },
 "nbformat": 4,
 "nbformat_minor": 1
}
